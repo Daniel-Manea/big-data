{
 "cells": [
  {
   "cell_type": "code",
   "execution_count": 69,
   "metadata": {},
   "outputs": [],
   "source": [
    "import pandas as pd \n",
    "import numpy as np\n",
    "\n",
    "import matplotlib as mp\n",
    "import matplotlib.pyplot as plt\n",
    "\n",
    "from matplotlib import cm\n",
    "from matplotlib import colors\n",
    "from matplotlib.colors import ListedColormap\n",
    "from matplotlib.colorbar import ColorbarBase\n",
    "\n",
    "import geopandas as gpd\n",
    "from shapely.geometry import Point\n",
    "import cartopy as cp\n",
    "from cartopy import crs as ccrs"
   ]
  },
  {
   "cell_type": "code",
   "execution_count": 70,
   "metadata": {},
   "outputs": [],
   "source": [
    "polutionData = pd.read_csv(\"../big-data/co2_2019.txt\", delimiter=';')"
   ]
  },
  {
   "cell_type": "code",
   "execution_count": 71,
   "metadata": {},
   "outputs": [],
   "source": [
    "def create_emissions_plot(data, lon_column, lat_column, emission_column, figsize=(80, 40)):\n",
    "    geometry = [Point(xy) for xy in zip(data[lon_column], data[lat_column])]\n",
    "    geodata = gpd.GeoDataFrame(data, crs=\"EPSG:4326\", geometry=geometry)\n",
    "    marker_size = min(figsize) * 0.09\n",
    "    fig, ax = plt.subplots(facecolor='black', subplot_kw={'projection': ccrs.Mercator()}, figsize=figsize)\n",
    "    ax.patch.set_facecolor('black')\n",
    "    ax = geodata.plot(ax=ax, column=emission_column, transform=ccrs.PlateCarree(),\n",
    "                      cmap='afmhot', norm=colors.LogNorm(), s=marker_size, alpha=1, edgecolors='none')\n",
    "    plt.setp(ax.spines.values(), color='black')\n",
    "    plt.setp([ax.get_xticklines(), ax.get_yticklines()], color='black')\n",
    "    ax.set_ylim(-8000000, 9000000)\n",
    "\n",
    "    our_cmap = cm.get_cmap('afmhot', 11)\n",
    "    newcolors = our_cmap(np.linspace(0, 1, 11))\n",
    "    newcolors = newcolors[1:]\n",
    "    our_cmap = ListedColormap(newcolors)\n",
    "    bounds = [0.0, 0.06, 6, 60, 600, 3000, 6000, 24000, 45000, 120000]\n",
    "    norm = colors.BoundaryNorm(bounds, our_cmap.N)\n",
    "    \n",
    "    cax = fig.add_axes([0.2, 0.05, 0.6, 0.02])\n",
    "    cb = ColorbarBase(cax, cmap=our_cmap, norm=norm, orientation='horizontal')\n",
    "    \n",
    "    color_labels = ['0', '6', '60', '600', '3000', '6000', '24000', '45000', '120000']\n",
    "    tick_positions = [0.03, 3, 30, 300, 1500, 4500, 15000, 34500, 82500]\n",
    "    cb.set_ticks(tick_positions)\n",
    "    cb.set_ticklabels(color_labels)\n",
    "    \n",
    "    fontsize = min(figsize) * 1\n",
    "    cb.ax.tick_params(axis='x', colors=(\"white\"), labelsize=fontsize)\n",
    "\n",
    "    cb.ax.set_xlabel(xlabel='Emission Level (tons)', color='white', fontsize=fontsize)\n",
    "\n",
    "    plt.show()"
   ]
  },
  {
   "cell_type": "code",
   "execution_count": 72,
   "metadata": {},
   "outputs": [
    {
     "name": "stderr",
     "output_type": "stream",
     "text": [
      "/usr/local/lib/python3.10/dist-packages/geopandas/plotting.py:732: FutureWarning: is_categorical_dtype is deprecated and will be removed in a future version. Use isinstance(dtype, CategoricalDtype) instead\n",
      "  if pd.api.types.is_categorical_dtype(values.dtype):\n"
     ]
    }
   ],
   "source": [
    "create_emissions_plot(polutionData, 'lon', 'lat', 'emission', figsize=(80, 40))"
   ]
  }
 ],
 "metadata": {
  "kernelspec": {
   "display_name": "Python 3",
   "language": "python",
   "name": "python3"
  },
  "language_info": {
   "codemirror_mode": {
    "name": "ipython",
    "version": 3
   },
   "file_extension": ".py",
   "mimetype": "text/x-python",
   "name": "python",
   "nbconvert_exporter": "python",
   "pygments_lexer": "ipython3",
   "version": "3.10.12"
  },
  "orig_nbformat": 4
 },
 "nbformat": 4,
 "nbformat_minor": 2
}
